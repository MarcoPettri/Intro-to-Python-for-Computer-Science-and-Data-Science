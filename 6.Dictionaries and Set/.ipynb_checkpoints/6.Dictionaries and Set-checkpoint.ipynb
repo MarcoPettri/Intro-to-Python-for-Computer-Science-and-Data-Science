{
 "cells": [
  {
   "cell_type": "markdown",
   "metadata": {},
   "source": [
    "# Chapter 6: Exercises \n"
   ]
  },
  {
   "cell_type": "markdown",
   "metadata": {},
   "source": [
    "6. 5 ***(Counting Votes)*** Write a script that uses a dictionary to determine the number of votes received by candidates in an election. The votes are concatenated in a string where each vote is separated from the next by a comma."
   ]
  },
  {
   "cell_type": "code",
   "execution_count": 1,
   "metadata": {},
   "outputs": [
    {
     "name": "stdout",
     "output_type": "stream",
     "text": [
      "Candidate                Votes           %\n",
      "Joe Biden                 1655         16.55\n",
      "Donald Trump              1656         16.56\n",
      "Jo Jorgensen              1655         16.55\n",
      "Howie Hawkins             1071         10.71\n",
      "Write-ins                 1459         14.59\n",
      "Gloria La Riva             242          2.42\n",
      "Brock Pierce               339          3.39\n",
      "Rocky De La Fuente         708          7.08\n",
      "Don Blankenship            278          2.78\n",
      "Kanye West                 327          3.27\n",
      "Brian Carroll              167          1.67\n",
      "Ricki Sue King              99          0.99\n",
      "Jade Simmons                64          0.64\n",
      "President Boddie            64          0.64\n",
      "Bill Hammons                64          0.64\n",
      "Tom Hoefling                64          0.64\n",
      "Alyson Kennedy              64          0.64\n",
      "Jerome Segal                24          0.24\n"
     ]
    }
   ],
   "source": [
    "import pandas as pd\n",
    "from collections import Counter\n",
    "\n",
    "data = pd.read_csv(\"https://raw.githubusercontent.com/babel202/hw13/master/president_county_candidate.csv\") #US 2020 election\n",
    "\n",
    "candidates = data.filter([\"candidate\"]).head(10_000).to_dict(\"records\")\n",
    "names = list()\n",
    "\n",
    "list(names.append(*i.values()) for i in candidates) #filters only candidate names\n",
    "\n",
    "print(f\"{'Candidate':<13} {'Votes':>16} {'%':>11}\")\n",
    "\n",
    "for name,votes in Counter(names).items():\n",
    "   \n",
    "    print(f\"{name.lstrip():20} {votes:9} {(votes/ len(names)) * 100 :13.2f}\")"
   ]
  },
  {
   "cell_type": "markdown",
   "metadata": {},
   "source": [
    "6. 6 ***(Duplicate Email Address Removal)*** Write a function that receives a list of email addresses and displays only the unique addresses. Treat uppercase and lowercase letters the same. The function should use a set to get the unique email addresses from the list. Test your function with several different lists. "
   ]
  },
  {
   "cell_type": "code",
   "execution_count": 95,
   "metadata": {},
   "outputs": [
    {
     "data": {
      "text/html": [
       "<div>\n",
       "<style scoped>\n",
       "    .dataframe tbody tr th:only-of-type {\n",
       "        vertical-align: middle;\n",
       "    }\n",
       "\n",
       "    .dataframe tbody tr th {\n",
       "        vertical-align: top;\n",
       "    }\n",
       "\n",
       "    .dataframe thead th {\n",
       "        text-align: right;\n",
       "    }\n",
       "</style>\n",
       "<table border=\"1\" class=\"dataframe\">\n",
       "  <thead>\n",
       "    <tr style=\"text-align: right;\">\n",
       "      <th></th>\n",
       "      <th>Email Addresses</th>\n",
       "      <th>Received</th>\n",
       "    </tr>\n",
       "  </thead>\n",
       "  <tbody>\n",
       "    <tr>\n",
       "      <th>0</th>\n",
       "      <td>m.rosenberg@enron.com</td>\n",
       "      <td>10</td>\n",
       "    </tr>\n",
       "    <tr>\n",
       "      <th>1</th>\n",
       "      <td>rlevin@nymex.com</td>\n",
       "      <td>1</td>\n",
       "    </tr>\n",
       "    <tr>\n",
       "      <th>2</th>\n",
       "      <td>shuttej@epenergy.com</td>\n",
       "      <td>20</td>\n",
       "    </tr>\n",
       "    <tr>\n",
       "      <th>3</th>\n",
       "      <td>winifred.isaac@enron.com</td>\n",
       "      <td>1</td>\n",
       "    </tr>\n",
       "    <tr>\n",
       "      <th>4</th>\n",
       "      <td>vhart@enron.com</td>\n",
       "      <td>1</td>\n",
       "    </tr>\n",
       "    <tr>\n",
       "      <th>...</th>\n",
       "      <td>...</td>\n",
       "      <td>...</td>\n",
       "    </tr>\n",
       "    <tr>\n",
       "      <th>27443</th>\n",
       "      <td>eracheff@wwc.com</td>\n",
       "      <td>44</td>\n",
       "    </tr>\n",
       "    <tr>\n",
       "      <th>27444</th>\n",
       "      <td>pmcintyre@sierratel.com</td>\n",
       "      <td>1</td>\n",
       "    </tr>\n",
       "    <tr>\n",
       "      <th>27445</th>\n",
       "      <td>rogers.herndon@enron.com</td>\n",
       "      <td>30</td>\n",
       "    </tr>\n",
       "    <tr>\n",
       "      <th>27446</th>\n",
       "      <td>varias@hollandhart.com</td>\n",
       "      <td>1</td>\n",
       "    </tr>\n",
       "    <tr>\n",
       "      <th>27447</th>\n",
       "      <td>branddd@bp.com</td>\n",
       "      <td>3</td>\n",
       "    </tr>\n",
       "  </tbody>\n",
       "</table>\n",
       "<p>27448 rows × 2 columns</p>\n",
       "</div>"
      ],
      "text/plain": [
       "                Email Addresses  Received \n",
       "0         m.rosenberg@enron.com         10\n",
       "1              rlevin@nymex.com          1\n",
       "2          shuttej@epenergy.com         20\n",
       "3      winifred.isaac@enron.com          1\n",
       "4               vhart@enron.com          1\n",
       "...                         ...        ...\n",
       "27443          eracheff@wwc.com         44\n",
       "27444   pmcintyre@sierratel.com          1\n",
       "27445  rogers.herndon@enron.com         30\n",
       "27446    varias@hollandhart.com          1\n",
       "27447            branddd@bp.com          3\n",
       "\n",
       "[27448 rows x 2 columns]"
      ]
     },
     "execution_count": 95,
     "metadata": {},
     "output_type": "execute_result"
    }
   ],
   "source": [
    "def removeDuplicate(emails:list)  -> print :\n",
    "    \"\"\"Remove duplicare emails and displays unique addresses \"\"\"\n",
    "    from pandas import DataFrame\n",
    "    from itertools import chain\n",
    "    from numpy import unique\n",
    "    \n",
    "    emails_cleaner = set(map(lambda x: x.lower(),   #merges all addresses into a single list,\n",
    "                             chain.from_iterable(emails.values())))  #transforms them all with lower case letters and removes duplicates using a set\n",
    "   \n",
    "    _ ,frequencies= unique(list(chain.from_iterable(emails.values())), return_counts=True) #gets the number of emails received per account\n",
    "    return DataFrame(zip(emails_cleaner,frequencies), columns= [\"Email Addresses\",\"Received \"])\n",
    "\n",
    "df = pd.read_csv(\"https://raw.githubusercontent.com/mizvol/enron-email-network-analysis/master/email-links-all.csv\") #Enron datasets\n",
    "\n",
    "emails = df.filter([\"From\",\"To\"]).to_dict(\"list\") #gets only email addresses\n",
    "\n",
    "removeDuplicate(emails)"
   ]
  },
  {
   "cell_type": "markdown",
   "metadata": {},
   "source": []
  }
 ],
 "metadata": {
  "kernelspec": {
   "display_name": "Python 3 (ipykernel)",
   "language": "python",
   "name": "python3"
  },
  "language_info": {
   "codemirror_mode": {
    "name": "ipython",
    "version": 3
   },
   "file_extension": ".py",
   "mimetype": "text/x-python",
   "name": "python",
   "nbconvert_exporter": "python",
   "pygments_lexer": "ipython3",
   "version": "3.10.5"
  },
  "vscode": {
   "interpreter": {
    "hash": "3c840cc4df9b75c854739a08ab016470b3d1ae353d8a92f1e63a8eff3e17044c"
   }
  }
 },
 "nbformat": 4,
 "nbformat_minor": 4
}
